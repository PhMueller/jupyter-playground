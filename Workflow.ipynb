{
 "cells": [
  {
   "cell_type": "markdown",
   "metadata": {},
   "source": [
    "# Workflow CAVE + HpBandster"
   ]
  },
  {
   "cell_type": "markdown",
   "metadata": {},
   "source": [
    "We will present you a example workflow of how to efficiently optimize a algorithm using our frameworks \n",
    "<a href=\"https://github.com/automl/CAVE\" target=\"_blank\">CAVE</a> and <a href=\"https://github.com/automl/HpBandSter\" target=\"_blank\">HpBandSter</a>"
   ]
  },
  {
   "cell_type": "markdown",
   "metadata": {},
   "source": [
    "## Short introduction to the used frameworks\n",
    "\n",
    "### HpBandSter\n",
    "\n",
    "Modern deep learning methods are very sensitive to many hyperparameters, and, due to the long training times of state-of-the-art models, vanilla Bayesian hyperparameter optimization is typically computationally infeasible. On the other hand, bandit-based configuration evaluation approaches based on random search lack guidance and do not converge to the best configurations as quickly. With HpBanster, we propose to combine the benefits of both Bayesian optimization and bandit-based methods, in order to achieve the best of both worlds: strong anytime performance and fast convergence to optimal configurations. We propose a new practical state-of-the-art hyperparameter optimization method, which consistently outperforms both Bayesian optimization and Hyperband on a wide range of problem types, including high-dimensional toy functions, support vector machines, feed-forward neural networks, Bayesian neural networks, deep reinforcement learning, and convolutional neural networks. Our method is robust and versatile, while at the same time being conceptually simple and easy to implement.\n",
    "\n",
    "For more insights, please consider the paper: <a href=\"https://arxiv.org/abs/1807.01774\" target=\"_blank\">BOHB: Robust and Efficient Hyperparameter Optimization at Scale</a>\n",
    "\n",
    "### CAVE\n",
    "\n",
    "CAVE stands for Configuration Assessment, Visualization and Evaluation. It is designed to create comprehensive reports about an optimization process. The resulting figures and interactive plots can be used to gain insights in the parameter importance, feature importance, search behaviour and quality. For a detailed report on the various analysis methods that CAVE offers, please see the documentation.\n",
    "For HpBandSter/BOHB CAVE offers a report that can be used to compare the optimization process over the individual budgets. Each analysis method is performed for each individual budget.\n"
   ]
  },
  {
   "cell_type": "markdown",
   "metadata": {},
   "source": [
    "## The Workflow\n"
   ]
  },
  {
   "cell_type": "markdown",
   "metadata": {},
   "source": [
    "In the next section, we guide you through the following steps:\n",
    "#### 1) Given a algorithm to optimize and a *configuration space*, we will run BOHB on this problem. \n",
    "This step contains: \n",
    "1. Setting up a worker, which runs the given algorithmn with all the sampled configurations. Here it's a simple scipy implementation of a SVM, training to classify the MNIST-dataset.\n",
    "2. Defining a configuration space for the classifier using the versatile <a href=\"https://github.com/automl/ConfigSpace\" target=\"_blank\">ConfigSpace module</a>.\n",
    "3. Setting up a nameserver, which organizes multiple workers and starting the optimizer, here BOHB.\n",
    "\n",
    "\n",
    "This will return us the optimization run results. For example the best hyperparameter configuration, which will be referred to as *incumbent*. \n",
    "Also a lot of information like which configurations has been used, as well as their performances.\n",
    "#### 2) We will pass the BOHB results into the CAVE-tool.\n",
    "It will give insights into the \n",
    "1. Parameter importance, \n",
    "2. performance analysis,\n",
    "3. feature analysis and \n",
    "4. configuration behaviour."
   ]
  },
  {
   "cell_type": "markdown",
   "metadata": {},
   "source": [
    "### 1.1) Setting up a worker class\n",
    "+ inherit from the hpbandster.core.worker class\n",
    "+ load the mnist data in the init-method\n",
    "+ overwrite the compute methode: the training of the model happens here\n",
    "+ make sure that the returned dictionary contains the fields **loss** and **info**"
   ]
  },
  {
   "cell_type": "code",
   "execution_count": null,
   "metadata": {},
   "outputs": [],
   "source": [
    "from sklearn import datasets, neural_network, metrics\n",
    "from hpbandster.core.worker import Worker\n",
    "\n",
    "class MyWorker(Worker):\n",
    "    def __init__(self, *args, **kwargs):\n",
    "        super(MyWorker, self).__init__(*args, **kwargs)\n",
    "        # We are loading the MNIST dataset and split it into a\n",
    "        # training and a test set.\n",
    "        digits = datasets.load_digits()\n",
    "        n_samples = len(digits.images)\n",
    "        data = digits.images.reshape((n_samples, -1))\n",
    "        \n",
    "        self.train_x = data[:n_samples // 2]\n",
    "        self.train_y = digits.target[:n_samples // 2]\n",
    "        self.test_x = data[n_samples // 2:]\n",
    "        self.test_y = digits.target[n_samples // 2:]\n",
    "\n",
    "    def compute(self, config, budget, *args, **kwargs):\n",
    "        \"\"\"\n",
    "        Simple example for a compute function. It'll be repeatedly called by the optimizer. \n",
    "        \n",
    "        Args:\n",
    "            config: dictionary containing the sampled configurations by the optimizer\n",
    "            budget: (float) amount of time/epochs/etc. the model can use to train\n",
    "\n",
    "        Returns:\n",
    "            dictionary with mandatory fields:\n",
    "                'loss' (scalar)\n",
    "                'info' (dict)\n",
    "        \"\"\"\n",
    "        beta_1 = 0  if 'beta_1' not in config else config['beta_1']\n",
    "        beta_2 = 0  if 'beta_2' not in config else config['beta_2']\n",
    "        \n",
    "        clf = neural_network.MLPClassifier(max_iter=int(budget),\n",
    "                                           learning_rate='constant',\n",
    "                                           learning_rate_init=config['learning_rate_init'],\n",
    "                                           activation=config['activation'],\n",
    "                                           solver=config['solver'],\n",
    "                                           beta_1=beta_1, \n",
    "                                           beta_2=beta_2\n",
    "                                          )\n",
    "        clf.fit(self.train_x, self.train_y)\n",
    "        \n",
    "        predicted = clf.predict(self.test_x)\n",
    "        loss_train = metrics.log_loss(self.train_y, clf.predict_proba(self.train_x))\n",
    "        loss_test = metrics.log_loss(self.test_y, clf.predict_proba(self.test_x))\n",
    "\n",
    "        accuracy_train = clf.score(self.train_x, self.train_y)\n",
    "        accuracy_test = clf.score(self.test_x, self.test_y)\n",
    "        \n",
    "        # print(clf.n_iter_)\n",
    "                \n",
    "        # print(\"Classification report for classifier %s:\\n%s\\n\"\n",
    "        #       % (classifier, metrics.classification_report(self.test_y, predicted)))\n",
    "        # print(\"Confusion matrix:\\n%s\" % metrics.confusion_matrix(self.test_y, predicted))\n",
    "        \n",
    "        return ({\n",
    "            'loss': loss_train,  # this is the a mandatory field to run hyperband\n",
    "            'info': {'loss_train': loss_train,\n",
    "                     'loss_test': loss_test,\n",
    "                     'accuracy_train': accuracy_train,\n",
    "                     'accuracy_test': accuracy_test,\n",
    "                     \n",
    "                    }  # can be used for any user-defined information - also mandatory\n",
    "        })"
   ]
  },
  {
   "cell_type": "markdown",
   "metadata": {},
   "source": [
    "### 1.2) ConfigSpace:\n",
    "Now we define the configuration space with the hyperparameters we'd like to optimize."
   ]
  },
  {
   "cell_type": "code",
   "execution_count": null,
   "metadata": {},
   "outputs": [],
   "source": [
    "import ConfigSpace as CS\n",
    "import ConfigSpace.hyperparameters as CSH\n",
    "\n",
    "def sample_configspace():\n",
    "    config_space = CS.ConfigurationSpace()\n",
    "    config_space.add_hyperparameter(CSH.CategoricalHyperparameter('activation', ['tanh', 'relu']))\n",
    "    config_space.add_hyperparameter(CS.UniformFloatHyperparameter('learning_rate_init', lower=1e-6, upper=1e-2, log=True))\n",
    "    \n",
    "    solver = CSH.CategoricalHyperparameter('solver', ['sgd', 'adam'])\n",
    "    config_space.add_hyperparameter(solver)\n",
    "    \n",
    "    beta_1 = CS.UniformFloatHyperparameter('beta_1', lower=0, upper=1)\n",
    "    config_space.add_hyperparameter(beta_1)\n",
    "    \n",
    "    condition = CS.EqualsCondition(beta_1, solver, 'adam')\n",
    "    config_space.add_condition(condition)\n",
    "    \n",
    "    beta_2 = CS.UniformFloatHyperparameter('beta_2', lower=0, upper=1)\n",
    "    config_space.add_hyperparameter(beta_2)\n",
    "    \n",
    "    condition = CS.EqualsCondition(beta_2, solver, 'adam')\n",
    "    config_space.add_condition(condition)\n",
    "    \n",
    "    return config_space"
   ]
  },
  {
   "cell_type": "markdown",
   "metadata": {},
   "source": [
    "### 1.3) Setting up the HpBandSter Nameserver and starting the optimization run\n",
    "HpBandster supports parallel computation. To organize the workers, which can run on either a local machine or a cluster.  \n",
    "We import also the ConfigSpace-to-json-writer, to save the configuration space to file, which we will use later in CAVE.\n",
    "\n",
    "**NOTE:** Unfortunately, this step is *not done automatically* but is mandatory for the analysis with CAVE.  \n",
    "We recommend to save the configuration space every time you use BOHB.\n",
    "\n",
    "**Step 1:**  \n",
    "Every run needs a nameserver. It could be a 'static' server with a permanent address, but here it will be started for the local machine with a random port.  \n",
    "The nameserver manages the concurrent running workers across all possible threads or clusternodes.\n",
    "\n",
    "**Step 2:**  \n",
    "The worker implements the connection to the model to be evaluated. Its 'compute'-method will be called later by the BOHB-optimizer repeatedly with the sampled configurations and return the computed loss (and additional infos).\n",
    "\n",
    "**Step 3:**  \n",
    "In the last of the 3 Steps, we create an optimizer object.It samples configurations from the ConfigurationSpace, using succesive halving. The number of sampled configurations is determined by the parameters eta, min_budget and max_budget.  \n",
    "After evaluating each configuration, starting with the minimum budget on the same subset size, only a fraction of 1 / eta of them *advances* to the next round. At the same time the current budget will be doubled. This process runs until the maximum budget is reached.  \n",
    "And it will be repeated for *n_iterations* runs.\n",
    "\n",
    "**NOTE:** BOHB does not build a new model at the beginning of every SuccessiveHalving run. Instead it collects all evaluations on all budgets and uses the largest budget with enough evaluations as a base for future evaluations.  \n",
    "\n",
    "**Step 4:**  \n",
    "Bohb will return a result object, which can be used to get informations about the incumbent (=best configuration) or the incumbent trajectory.  \n",
    "The results will be stored, if not specified, to the current working directory."
   ]
  },
  {
   "cell_type": "code",
   "execution_count": null,
   "metadata": {
    "scrolled": true
   },
   "outputs": [],
   "source": [
    "import os\n",
    "import logging\n",
    "logging.basicConfig(level=logging.INFO)\n",
    "\n",
    "from ConfigSpace.read_and_write import pcs_new\n",
    "import hpbandster.core.nameserver as hpns\n",
    "import hpbandster.core.result as hpres\n",
    "\n",
    "\n",
    "from hpbandster.optimizers import BOHB as BOHB\n",
    "\n",
    "# Create a configuration space\n",
    "config_space = sample_configspace()\n",
    "\n",
    "# Write the ConfigSpace for later use to file\n",
    "out_dir = 'workflow_result'\n",
    "os.makedirs(out_dir, exist_ok=True)\n",
    "with open(os.path.join(out_dir, 'configspace.pcs'), 'w') as fh:\n",
    "    fh.write(pcs_new.write(config_space))\n",
    "\n",
    "# Log the optimization results for later analysis\n",
    "result_logger = hpres.json_result_logger(directory=out_dir, overwrite=True)\n",
    "    \n",
    "# Every run has to have a unique (at runtime) id.\n",
    "run_id = '0'\n",
    "\n",
    "# Step 1: Set up the nameserver\n",
    "NS = hpns.NameServer(run_id=run_id, host='localhost', port=0)\n",
    "ns_host, ns_port = NS.start()\n",
    "\n",
    "# Step 2: Connect the worker with the nameserver\n",
    "w = MyWorker(nameserver=ns_host,\n",
    "             nameserver_port=ns_port,\n",
    "             run_id=run_id,  # unique Hyperband run id (same as nameserver's)\n",
    "            )\n",
    "w.run(background=True)\n",
    "\n",
    "# Step 3: Create the optimizer object and run it\n",
    "bohb = BOHB(  configspace=config_space,\n",
    "              run_id=run_id,  # same as nameserver's\n",
    "              eta=2, min_budget=5, max_budget=100,  # Hyperband parameters\n",
    "              nameserver=ns_host,\n",
    "              nameserver_port=ns_port,\n",
    "              result_logger=result_logger,\n",
    "              ping_interval=3600,  # how often master pings for workers (in seconds)\n",
    "           )\n",
    "\n",
    "# Then start the optimizer. The n_iterations parameter specifies\n",
    "# the number of iterations to be performed in this run\n",
    "res = bohb.run(n_iterations=2)\n",
    "\n",
    "# After the optimizer run, we shutdown the master.\n",
    "bohb.shutdown(shutdown_workers=True)"
   ]
  },
  {
   "cell_type": "code",
   "execution_count": null,
   "metadata": {
    "scrolled": true
   },
   "outputs": [],
   "source": [
    "# Step 4 Plotting the results\n",
    "\n",
    "# The returned result object holds informations about the optimization run\n",
    "# like the incumbent (=best) configuration.\n",
    "id2config = res.get_id2config_mapping()\n",
    "print('A total of %i unique configurations where sampled.' % len(id2config.keys()))\n",
    "print('A total of %i runs where executed.' % len(res.get_all_runs()))\n",
    "print('Best configuration found: {}'.format(id2config[res.get_incumbent_id()]['config']))\n",
    "\n",
    "# The incumbent trajectory is a dictionary with all the configuration IDs, the times the runs\n",
    "# finished, their respective budgets, and corresponding losses.\n",
    "# It's used to do meaningful plots of the optimization process.\n",
    "incumbent_trajectory = res.get_incumbent_trajectory()\n",
    "\n",
    "import matplotlib.pyplot as plt\n",
    "plt.plot(incumbent_trajectory['times_finished'], incumbent_trajectory['losses'])\n",
    "plt.xlabel('wall clock time [s]')\n",
    "plt.ylabel('incumbent loss')\n",
    "plt.show()"
   ]
  },
  {
   "cell_type": "markdown",
   "metadata": {},
   "source": [
    "## Using the results in CAVE\n",
    "\n",
    "### 2.1) Analyzing the report with CAVE\n",
    "\n",
    "Creating the report with CAVE is very straight-forward. Simply provide the output-directory of the BOHB-analysis in CAVE's `--folders` argument and specify `--file_format` as `BOHB`:\n"
   ]
  },
  {
   "cell_type": "code",
   "execution_count": null,
   "metadata": {},
   "outputs": [],
   "source": [
    "! cave --folders workflow_result --file_format BOHB --output CAVE-workflow-result"
   ]
  },
  {
   "cell_type": "markdown",
   "metadata": {},
   "source": [
    "After CAVE finished the report, you can have a look at it with your favorite browser."
   ]
  },
  {
   "cell_type": "code",
   "execution_count": null,
   "metadata": {},
   "outputs": [],
   "source": [
    "! firefox CAVE-workflow-result/report.html"
   ]
  },
  {
   "cell_type": "code",
   "execution_count": null,
   "metadata": {},
   "outputs": [],
   "source": []
  }
 ],
 "metadata": {
  "kernelspec": {
   "display_name": "Python 3",
   "language": "python",
   "name": "python3"
  },
  "language_info": {
   "codemirror_mode": {
    "name": "ipython",
    "version": 3
   },
   "file_extension": ".py",
   "mimetype": "text/x-python",
   "name": "python",
   "nbconvert_exporter": "python",
   "pygments_lexer": "ipython3",
   "version": "3.6.5"
  }
 },
 "nbformat": 4,
 "nbformat_minor": 2
}
